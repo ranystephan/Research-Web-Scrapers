{
 "cells": [
  {
   "cell_type": "code",
   "execution_count": null,
   "id": "bee65170-c2bb-4292-b02b-a2469de4aa58",
   "metadata": {},
   "outputs": [],
   "source": [
    "from selenium import webdriver\n",
    "from selenium.webdriver.common.keys import Keys\n",
    "from selenium.webdriver.common.by import By\n",
    "from time import sleep\n",
    "from selenium.webdriver.chrome.options import Options\n",
    "import random as rd"
   ]
  },
  {
   "cell_type": "code",
   "execution_count": null,
   "id": "973631b1-6601-4778-808b-92b2a929260b",
   "metadata": {
    "tags": []
   },
   "outputs": [],
   "source": [
    "PATH=r\"WEBDRIVERPATH\" #input your webdriver path here\n",
    "options = Options()\n",
    "options.binary_location = '/Applications/Brave Browser.app/Contents/MacOS/Brave Browser' #I use brave but you can use any browser\n",
    "driver = webdriver.Chrome(options = options, executable_path = PATH)\n",
    "#driver = webdriver.Chrome(PATH)\n",
    "#driver=webdriver.Safari()"
   ]
  },
  {
   "cell_type": "code",
   "execution_count": null,
   "id": "d3a07a0d-f0a5-4a28-ba35-2773a07e9161",
   "metadata": {},
   "outputs": [],
   "source": [
    "driver.get(\"https://www.instagram.com\")\n",
    "sleep(7)"
   ]
  },
  {
   "cell_type": "code",
   "execution_count": null,
   "id": "f3f488ff-c030-405c-af1c-3ad91dc69ae4",
   "metadata": {},
   "outputs": [],
   "source": [
    "username=driver.find_element(By.NAME, \"username\")\n",
    "username.clear()\n",
    "username.send_keys(\"\") #input your username"
   ]
  },
  {
   "cell_type": "code",
   "execution_count": null,
   "id": "ef3b5fba-a3e2-463f-a35b-2a280ccddb6f",
   "metadata": {},
   "outputs": [],
   "source": [
    "password=driver.find_element(By.NAME, \"password\")\n",
    "password.clear()\n",
    "password.send_keys(\"\") #input your password"
   ]
  },
  {
   "cell_type": "code",
   "execution_count": null,
   "id": "5c4758f3-ecbf-4dc0-97b3-516a612e0c58",
   "metadata": {},
   "outputs": [],
   "source": [
    "login=driver.find_element(By.XPATH, \"//*[@id='loginForm']/div/div[3]\").click()\n",
    "sleep(10)"
   ]
  },
  {
   "cell_type": "code",
   "execution_count": null,
   "id": "a98b56f8-4d27-413d-b18c-36ae2cedc768",
   "metadata": {
    "tags": []
   },
   "outputs": [],
   "source": [
    "notification=driver.find_element(By.XPATH, \"//button[contains(text(), 'Not Now')]\").click()"
   ]
  },
  {
   "cell_type": "code",
   "execution_count": null,
   "id": "9f3febad-6c60-422f-917e-72258f66b483",
   "metadata": {
    "tags": []
   },
   "outputs": [],
   "source": [
    "notification2=driver.find_element(By.XPATH, \"//button[contains(text(), 'Not Now')]\").click()"
   ]
  },
  {
   "cell_type": "code",
   "execution_count": null,
   "id": "65e4397e-fbdd-40f7-bf1c-efdfcb79c8c5",
   "metadata": {
    "tags": []
   },
   "outputs": [],
   "source": [
    "insta_data=[]\n",
    "\n",
    "driver.refresh()\n",
    "sleep(4)"
   ]
  },
  {
   "cell_type": "code",
   "execution_count": null,
   "id": "84169907-eee7-4aa1-b392-72af74d86f3d",
   "metadata": {},
   "outputs": [],
   "source": [
    "from selenium.webdriver.support import expected_conditions as EC\n",
    "from selenium.webdriver.common.by import By\n",
    "from selenium.webdriver.support.ui import WebDriverWait\n",
    "wait = WebDriverWait(driver, rd.randint(7,12))"
   ]
  },
  {
   "cell_type": "code",
   "execution_count": null,
   "id": "d8e8ae09-b294-4edb-bcee-96d559687457",
   "metadata": {},
   "outputs": [],
   "source": [
    "import os\n",
    "import wget\n",
    "import urllib.request\n",
    "import requests"
   ]
  },
  {
   "cell_type": "code",
   "execution_count": null,
   "id": "03655700-bd0f-425b-ad35-0f9551c2e43a",
   "metadata": {
    "tags": []
   },
   "outputs": [],
   "source": [
    "def keywordSearch(keyword):\n",
    "    path = os.getcwd()\n",
    "    path = os.path.join(path, keyword[1:] + \"s\")\n",
    "    os.mkdir(path)\n",
    "    counter = 0\n",
    "    #for _ in range(5):\n",
    "    for i in range(1, 4):\n",
    "        for j in range(1, 4):\n",
    "            sleep(rd.randint(1,4))\n",
    "            big_div_img = driver.find_element(By.XPATH, f\"//*[@id='mount_0_0_Cy']/div/div/div/div[1]/div/div/div/div[1]/section/main/article/div/div/div/div[{i}]/div[{j}]\")\n",
    "            image_field = wait.until(EC.element_to_be_clickable(big_div_img.find_element(By.CLASS_NAME, '_aagw'))).click()\n",
    "            sleep(rd.randint(1,7))\n",
    "            \n",
    "            div_image = big_div_img.find_element(By.CLASS_NAME, '_aagv')\n",
    "            image = div_image.find_element(By.TAG_NAME, 'img')\n",
    "            source = image.get_attribute('src')\n",
    "            alt = image.get_attribute('alt')\n",
    "                \n",
    "            sleep(rd.randint(1,4))\n",
    "            #save image\n",
    "            save_as = os.path.join(path, keyword[1:] + str(counter) + '.jpg')\n",
    "            wget.download(source, save_as)\n",
    "            sleep(rd.randint(2,6))\n",
    "            counter += 1\n",
    "                \n",
    "\n",
    "                \n",
    "            try:\n",
    "                subject_username = driver.find_element(By.XPATH, \"//*[@id='mount_0_0_Cy']/div/div/div/div[2]/div/div/div[1]/div/div[3]/div/div/div/div/div[2]/div/article/div/div[2]/div/div/div[1]/div/header/div[2]/div[1]/div[1]/div/div/div/span/a\").text\n",
    "            except:\n",
    "                driver.execute_script(\"window.history.go(-1)\")\n",
    "                continue\n",
    "                                                        \n",
    "            pic_desc = driver.find_element(By.XPATH, \"//*[@id='mount_0_0_Cy']/div/div/div/div[2]/div/div/div[1]/div/div[3]/div/div/div/div/div[2]/div/article/div/div[2]/div/div/div[2]/div[1]/ul/div/li/div/div/div[2]/div[1]/span\").text\n",
    "\n",
    "                                                                    \n",
    "            insta_data.append((keyword, source, alt, subject_username, pic_desc))\n",
    "            \n",
    "            driver.execute_script(\"window.history.go(-1)\")\n",
    "\n",
    "\n",
    "        #driver.execute_script(\"window.scrollTo(0,document.body.scrollHeight)\")\n",
    "    sleep(3) ## to pause so that page loads properly"
   ]
  },
  {
   "cell_type": "code",
   "execution_count": null,
   "id": "6fbaaff6-3ddc-42be-a21b-75ccab424329",
   "metadata": {
    "tags": []
   },
   "outputs": [],
   "source": [
    "#\"#thrift\", \"#thriftshop\", \"#thriftstore\", \"#thriftstorefinds\", \"#thriftfinds\", \"#thriftlebanon\",\"#lebanonthrift\", \"#handpicked\", \"#thriftedfashion\", \"#brandthrift\", \"#reuse\", \"#recycle\", \"#used\", \"#usedbrands\", \"#secondhandlebanon\", \n",
    "hashtags = [\"\"] #your wanted scraped hashtags, some examples above"
   ]
  },
  {
   "cell_type": "code",
   "execution_count": null,
   "id": "ea202931-a1a3-4008-a3f7-32e0862437cc",
   "metadata": {
    "jupyter": {
     "source_hidden": true
    },
    "tags": []
   },
   "outputs": [],
   "source": [
    "def trying(keyword):\n",
    "    #scroll\n",
    "    driver.execute_script(\"window.scrollTo(0, 4000);\")\n",
    "    #select images\n",
    "    images = driver.find_elements(By.TAG_NAME, 'img')\n",
    "    images = [image.get_attribute('src') for image in images]\n",
    "    #alt = [image.get_attribute('alt') for image in images]\n",
    "    #insta_data.append((0, alt, 0, 0))\n",
    "    images = images[:-2] #slicing-off IG logo and Profile picture\n",
    "    sleep(5)\n",
    "    print('Number of scraped images: ', len(images))\n",
    "    sleep(3)\n",
    "    import os\n",
    "    import wget\n",
    "    os.environ['WDM_SSL_VERIFY'] = '0'\n",
    "\n",
    "    path = os.getcwd()\n",
    "    path = os.path.join(path, keyword[1:] + \"s\")\n",
    "    os.mkdir(path)\n",
    "    \n",
    "    path\n",
    "    #download images\n",
    "    sleep(2)\n",
    "    counter = 0\n",
    "    for image in images:\n",
    "        save_as = os.path.join(path, keyword[1:] + str(counter) +'.jpg')\n",
    "        sleep(2)\n",
    "        wget.download(image, save_as)\n",
    "        sleep(5)\n",
    "        counter += 1"
   ]
  },
  {
   "cell_type": "code",
   "execution_count": null,
   "id": "24ca4b07-a1a4-49f4-87b3-b0c4e2863f51",
   "metadata": {
    "tags": []
   },
   "outputs": [],
   "source": [
    "for hT in hashtags:\n",
    "    explore = driver.find_element(By.XPATH, \"//a[@href='/explore/']\").click()\n",
    "    sleep(rd.randint(4,6))\n",
    "    searchbox = driver.find_element(By.CSS_SELECTOR, \"input[placeholder='Search']\")\n",
    "    searchbox.clear()\n",
    "    searchbox.send_keys(hT)\n",
    "    searchbox.send_keys(Keys.RETURN)\n",
    "    sleep(rd.randint(4,6))\n",
    "    searchbox.send_keys(Keys.RETURN)\n",
    "    searchbox.send_keys(Keys.RETURN)\n",
    "    sleep(rd.randint(4,6))\n",
    "    keywordSearch(hT)\n",
    "    #trying(hT)"
   ]
  },
  {
   "cell_type": "code",
   "execution_count": null,
   "id": "9083d43d-4b76-43fd-9fc9-3ae12a3d4948",
   "metadata": {},
   "outputs": [],
   "source": [
    "import pandas as pd\n",
    "df = pd.DataFrame(insta_data, columns=['keyword', 'source', 'alt', 'subject_username', 'pic_desc'])\n"
   ]
  },
  {
   "cell_type": "code",
   "execution_count": null,
   "id": "b64dea3a-7e3c-4b27-bd37-c13da6bc3c93",
   "metadata": {
    "tags": []
   },
   "outputs": [],
   "source": [
    "df.to_csv(r'') #your wanted path for CSV file\n",
    "df"
   ]
  },
  {
   "cell_type": "code",
   "execution_count": null,
   "id": "a5583d24-011b-47f5-ae79-5057f54a11b0",
   "metadata": {},
   "outputs": [],
   "source": []
  }
 ],
 "metadata": {
  "kernelspec": {
   "display_name": "Python 3 (ipykernel)",
   "language": "python",
   "name": "python3"
  },
  "language_info": {
   "codemirror_mode": {
    "name": "ipython",
    "version": 3
   },
   "file_extension": ".py",
   "mimetype": "text/x-python",
   "name": "python",
   "nbconvert_exporter": "python",
   "pygments_lexer": "ipython3",
   "version": "3.10.7"
  },
  "toc-autonumbering": false,
  "toc-showcode": false,
  "toc-showmarkdowntxt": false
 },
 "nbformat": 4,
 "nbformat_minor": 5
}
