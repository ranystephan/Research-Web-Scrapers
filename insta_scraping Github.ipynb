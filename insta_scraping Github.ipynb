{
 "cells": [
  {
   "cell_type": "code",
   "execution_count": 27,
   "id": "bee65170-c2bb-4292-b02b-a2469de4aa58",
   "metadata": {},
   "outputs": [],
   "source": [
    "from selenium import webdriver\n",
    "from selenium.webdriver.common.keys import Keys\n",
    "from selenium.webdriver.common.by import By\n",
    "from time import sleep\n",
    "from selenium.webdriver.chrome.options import Options\n",
    "import random as rd"
   ]
  },
  {
   "cell_type": "code",
   "execution_count": 28,
   "id": "973631b1-6601-4778-808b-92b2a929260b",
   "metadata": {
    "tags": []
   },
   "outputs": [
    {
     "name": "stderr",
     "output_type": "stream",
     "text": [
      "/var/folders/cc/b5_0zmwd6bs8ktgj2_7zlnnm0000gn/T/ipykernel_23530/3985968594.py:4: DeprecationWarning: executable_path has been deprecated, please pass in a Service object\n",
      "  driver = webdriver.Chrome(options = options, executable_path = PATH)\n"
     ]
    }
   ],
   "source": [
    "PATH=r\"WEBDRIVERPATH\" #input your webdriver path here\n",
    "options = Options()\n",
    "options.binary_location = '/Applications/Brave Browser.app/Contents/MacOS/Brave Browser' #I use brave but you can use any browser\n",
    "driver = webdriver.Chrome(options = options, executable_path = PATH)\n",
    "#driver = webdriver.Chrome(PATH)\n",
    "#driver=webdriver.Safari()"
   ]
  },
  {
   "cell_type": "code",
   "execution_count": 29,
   "id": "d3a07a0d-f0a5-4a28-ba35-2773a07e9161",
   "metadata": {},
   "outputs": [],
   "source": [
    "driver.get(\"https://www.instagram.com\")\n",
    "sleep(7)"
   ]
  },
  {
   "cell_type": "code",
   "execution_count": 30,
   "id": "f3f488ff-c030-405c-af1c-3ad91dc69ae4",
   "metadata": {},
   "outputs": [],
   "source": [
    "username=driver.find_element(By.NAME, \"username\")\n",
    "username.clear()\n",
    "username.send_keys(\"\") #input your username"
   ]
  },
  {
   "cell_type": "code",
   "execution_count": 31,
   "id": "ef3b5fba-a3e2-463f-a35b-2a280ccddb6f",
   "metadata": {},
   "outputs": [],
   "source": [
    "password=driver.find_element(By.NAME, \"password\")\n",
    "password.clear()\n",
    "password.send_keys(\"\") #input your password"
   ]
  },
  {
   "cell_type": "code",
   "execution_count": 32,
   "id": "5c4758f3-ecbf-4dc0-97b3-516a612e0c58",
   "metadata": {},
   "outputs": [],
   "source": [
    "login=driver.find_element(By.XPATH, \"//*[@id='loginForm']/div/div[3]\").click()\n",
    "sleep(10)"
   ]
  },
  {
   "cell_type": "code",
   "execution_count": 33,
   "id": "a98b56f8-4d27-413d-b18c-36ae2cedc768",
   "metadata": {
    "tags": []
   },
   "outputs": [],
   "source": [
    "notification=driver.find_element(By.XPATH, \"//button[contains(text(), 'Not Now')]\").click()"
   ]
  },
  {
   "cell_type": "code",
   "execution_count": 34,
   "id": "a44abede-4aff-4dfb-a022-d40a4c4bd564",
   "metadata": {
    "collapsed": true,
    "jupyter": {
     "outputs_hidden": true
    },
    "tags": []
   },
   "outputs": [
    {
     "ename": "NoSuchElementException",
     "evalue": "Message: no such element: Unable to locate element: {\"method\":\"xpath\",\"selector\":\"//button[contains(text(), 'Not Now')]\"}\n  (Session info: chrome=106.0.5249.91)\nStacktrace:\n0   chromedriver                        0x000000010abe8788 chromedriver + 4515720\n1   chromedriver                        0x000000010ab6c9d3 chromedriver + 4008403\n2   chromedriver                        0x000000010a7ff12a chromedriver + 413994\n3   chromedriver                        0x000000010a836873 chromedriver + 641139\n4   chromedriver                        0x000000010a836a61 chromedriver + 641633\n5   chromedriver                        0x000000010a868f64 chromedriver + 847716\n6   chromedriver                        0x000000010a8537fd chromedriver + 759805\n7   chromedriver                        0x000000010a866bd9 chromedriver + 838617\n8   chromedriver                        0x000000010a853603 chromedriver + 759299\n9   chromedriver                        0x000000010a829990 chromedriver + 588176\n10  chromedriver                        0x000000010a82aa75 chromedriver + 592501\n11  chromedriver                        0x000000010abb86cd chromedriver + 4318925\n12  chromedriver                        0x000000010abbcf35 chromedriver + 4337461\n13  chromedriver                        0x000000010abc41ff chromedriver + 4366847\n14  chromedriver                        0x000000010abbdc5a chromedriver + 4340826\n15  chromedriver                        0x000000010ab93c2c chromedriver + 4168748\n16  chromedriver                        0x000000010abda4f8 chromedriver + 4457720\n17  chromedriver                        0x000000010abda693 chromedriver + 4458131\n18  chromedriver                        0x000000010abefa3e chromedriver + 4545086\n19  libsystem_pthread.dylib             0x00007ff805cd44e1 _pthread_start + 125\n20  libsystem_pthread.dylib             0x00007ff805ccff6b thread_start + 15\n",
     "output_type": "error",
     "traceback": [
      "\u001b[0;31m---------------------------------------------------------------------------\u001b[0m",
      "\u001b[0;31mNoSuchElementException\u001b[0m                    Traceback (most recent call last)",
      "Cell \u001b[0;32mIn [34], line 1\u001b[0m\n\u001b[0;32m----> 1\u001b[0m notification2\u001b[38;5;241m=\u001b[39mdriver\u001b[38;5;241m.\u001b[39mfind_element(By\u001b[38;5;241m.\u001b[39mXPATH, \u001b[38;5;124m\"\u001b[39m\u001b[38;5;124m//button[contains(text(), \u001b[39m\u001b[38;5;124m'\u001b[39m\u001b[38;5;124mNot Now\u001b[39m\u001b[38;5;124m'\u001b[39m\u001b[38;5;124m)]\u001b[39m\u001b[38;5;124m\"\u001b[39m)\u001b[38;5;241m.\u001b[39mclick()\n",
      "File \u001b[0;32m/usr/local/lib/python3.10/site-packages/selenium/webdriver/remote/webdriver.py:856\u001b[0m, in \u001b[0;36mWebDriver.find_element\u001b[0;34m(self, by, value)\u001b[0m\n\u001b[1;32m    853\u001b[0m     by \u001b[38;5;241m=\u001b[39m By\u001b[38;5;241m.\u001b[39mCSS_SELECTOR\n\u001b[1;32m    854\u001b[0m     value \u001b[38;5;241m=\u001b[39m \u001b[38;5;124m'\u001b[39m\u001b[38;5;124m[name=\u001b[39m\u001b[38;5;124m\"\u001b[39m\u001b[38;5;132;01m%s\u001b[39;00m\u001b[38;5;124m\"\u001b[39m\u001b[38;5;124m]\u001b[39m\u001b[38;5;124m'\u001b[39m \u001b[38;5;241m%\u001b[39m value\n\u001b[0;32m--> 856\u001b[0m \u001b[38;5;28;01mreturn\u001b[39;00m \u001b[38;5;28;43mself\u001b[39;49m\u001b[38;5;241;43m.\u001b[39;49m\u001b[43mexecute\u001b[49m\u001b[43m(\u001b[49m\u001b[43mCommand\u001b[49m\u001b[38;5;241;43m.\u001b[39;49m\u001b[43mFIND_ELEMENT\u001b[49m\u001b[43m,\u001b[49m\u001b[43m \u001b[49m\u001b[43m{\u001b[49m\n\u001b[1;32m    857\u001b[0m \u001b[43m    \u001b[49m\u001b[38;5;124;43m'\u001b[39;49m\u001b[38;5;124;43musing\u001b[39;49m\u001b[38;5;124;43m'\u001b[39;49m\u001b[43m:\u001b[49m\u001b[43m \u001b[49m\u001b[43mby\u001b[49m\u001b[43m,\u001b[49m\n\u001b[1;32m    858\u001b[0m \u001b[43m    \u001b[49m\u001b[38;5;124;43m'\u001b[39;49m\u001b[38;5;124;43mvalue\u001b[39;49m\u001b[38;5;124;43m'\u001b[39;49m\u001b[43m:\u001b[49m\u001b[43m \u001b[49m\u001b[43mvalue\u001b[49m\u001b[43m}\u001b[49m\u001b[43m)\u001b[49m[\u001b[38;5;124m'\u001b[39m\u001b[38;5;124mvalue\u001b[39m\u001b[38;5;124m'\u001b[39m]\n",
      "File \u001b[0;32m/usr/local/lib/python3.10/site-packages/selenium/webdriver/remote/webdriver.py:429\u001b[0m, in \u001b[0;36mWebDriver.execute\u001b[0;34m(self, driver_command, params)\u001b[0m\n\u001b[1;32m    427\u001b[0m response \u001b[38;5;241m=\u001b[39m \u001b[38;5;28mself\u001b[39m\u001b[38;5;241m.\u001b[39mcommand_executor\u001b[38;5;241m.\u001b[39mexecute(driver_command, params)\n\u001b[1;32m    428\u001b[0m \u001b[38;5;28;01mif\u001b[39;00m response:\n\u001b[0;32m--> 429\u001b[0m     \u001b[38;5;28;43mself\u001b[39;49m\u001b[38;5;241;43m.\u001b[39;49m\u001b[43merror_handler\u001b[49m\u001b[38;5;241;43m.\u001b[39;49m\u001b[43mcheck_response\u001b[49m\u001b[43m(\u001b[49m\u001b[43mresponse\u001b[49m\u001b[43m)\u001b[49m\n\u001b[1;32m    430\u001b[0m     response[\u001b[38;5;124m'\u001b[39m\u001b[38;5;124mvalue\u001b[39m\u001b[38;5;124m'\u001b[39m] \u001b[38;5;241m=\u001b[39m \u001b[38;5;28mself\u001b[39m\u001b[38;5;241m.\u001b[39m_unwrap_value(\n\u001b[1;32m    431\u001b[0m         response\u001b[38;5;241m.\u001b[39mget(\u001b[38;5;124m'\u001b[39m\u001b[38;5;124mvalue\u001b[39m\u001b[38;5;124m'\u001b[39m, \u001b[38;5;28;01mNone\u001b[39;00m))\n\u001b[1;32m    432\u001b[0m     \u001b[38;5;28;01mreturn\u001b[39;00m response\n",
      "File \u001b[0;32m/usr/local/lib/python3.10/site-packages/selenium/webdriver/remote/errorhandler.py:243\u001b[0m, in \u001b[0;36mErrorHandler.check_response\u001b[0;34m(self, response)\u001b[0m\n\u001b[1;32m    241\u001b[0m         alert_text \u001b[38;5;241m=\u001b[39m value[\u001b[38;5;124m'\u001b[39m\u001b[38;5;124malert\u001b[39m\u001b[38;5;124m'\u001b[39m]\u001b[38;5;241m.\u001b[39mget(\u001b[38;5;124m'\u001b[39m\u001b[38;5;124mtext\u001b[39m\u001b[38;5;124m'\u001b[39m)\n\u001b[1;32m    242\u001b[0m     \u001b[38;5;28;01mraise\u001b[39;00m exception_class(message, screen, stacktrace, alert_text)  \u001b[38;5;66;03m# type: ignore[call-arg]  # mypy is not smart enough here\u001b[39;00m\n\u001b[0;32m--> 243\u001b[0m \u001b[38;5;28;01mraise\u001b[39;00m exception_class(message, screen, stacktrace)\n",
      "\u001b[0;31mNoSuchElementException\u001b[0m: Message: no such element: Unable to locate element: {\"method\":\"xpath\",\"selector\":\"//button[contains(text(), 'Not Now')]\"}\n  (Session info: chrome=106.0.5249.91)\nStacktrace:\n0   chromedriver                        0x000000010abe8788 chromedriver + 4515720\n1   chromedriver                        0x000000010ab6c9d3 chromedriver + 4008403\n2   chromedriver                        0x000000010a7ff12a chromedriver + 413994\n3   chromedriver                        0x000000010a836873 chromedriver + 641139\n4   chromedriver                        0x000000010a836a61 chromedriver + 641633\n5   chromedriver                        0x000000010a868f64 chromedriver + 847716\n6   chromedriver                        0x000000010a8537fd chromedriver + 759805\n7   chromedriver                        0x000000010a866bd9 chromedriver + 838617\n8   chromedriver                        0x000000010a853603 chromedriver + 759299\n9   chromedriver                        0x000000010a829990 chromedriver + 588176\n10  chromedriver                        0x000000010a82aa75 chromedriver + 592501\n11  chromedriver                        0x000000010abb86cd chromedriver + 4318925\n12  chromedriver                        0x000000010abbcf35 chromedriver + 4337461\n13  chromedriver                        0x000000010abc41ff chromedriver + 4366847\n14  chromedriver                        0x000000010abbdc5a chromedriver + 4340826\n15  chromedriver                        0x000000010ab93c2c chromedriver + 4168748\n16  chromedriver                        0x000000010abda4f8 chromedriver + 4457720\n17  chromedriver                        0x000000010abda693 chromedriver + 4458131\n18  chromedriver                        0x000000010abefa3e chromedriver + 4545086\n19  libsystem_pthread.dylib             0x00007ff805cd44e1 _pthread_start + 125\n20  libsystem_pthread.dylib             0x00007ff805ccff6b thread_start + 15\n"
     ]
    }
   ],
   "source": [
    "notification2=driver.find_element(By.XPATH, \"//button[contains(text(), 'Not Now')]\").click()"
   ]
  },
  {
   "cell_type": "code",
   "execution_count": 35,
   "id": "65e4397e-fbdd-40f7-bf1c-efdfcb79c8c5",
   "metadata": {
    "tags": []
   },
   "outputs": [],
   "source": [
    "insta_data=[]\n",
    "\n",
    "driver.refresh()\n",
    "sleep(4)"
   ]
  },
  {
   "cell_type": "code",
   "execution_count": 36,
   "id": "84169907-eee7-4aa1-b392-72af74d86f3d",
   "metadata": {},
   "outputs": [],
   "source": [
    "from selenium.webdriver.support import expected_conditions as EC\n",
    "from selenium.webdriver.common.by import By\n",
    "from selenium.webdriver.support.ui import WebDriverWait\n",
    "wait = WebDriverWait(driver, rd.randint(7,12))"
   ]
  },
  {
   "cell_type": "code",
   "execution_count": 37,
   "id": "d8e8ae09-b294-4edb-bcee-96d559687457",
   "metadata": {},
   "outputs": [],
   "source": [
    "import os\n",
    "import wget\n",
    "import urllib.request\n",
    "import requests"
   ]
  },
  {
   "cell_type": "code",
   "execution_count": 79,
   "id": "03655700-bd0f-425b-ad35-0f9551c2e43a",
   "metadata": {
    "tags": []
   },
   "outputs": [],
   "source": [
    "def keywordSearch(keyword):\n",
    "    path = os.getcwd()\n",
    "    path = os.path.join(path, keyword[1:] + \"s\")\n",
    "    os.mkdir(path)\n",
    "    counter = 0\n",
    "    #for _ in range(5):\n",
    "    for i in range(1, 4):\n",
    "        for j in range(1, 4):\n",
    "            sleep(rd.randint(1,4))\n",
    "            big_div_img = driver.find_element(By.XPATH, f\"//*[@id='mount_0_0_Cy']/div/div/div/div[1]/div/div/div/div[1]/section/main/article/div/div/div/div[{i}]/div[{j}]\")\n",
    "            image_field = wait.until(EC.element_to_be_clickable(big_div_img.find_element(By.CLASS_NAME, '_aagw'))).click()\n",
    "            sleep(rd.randint(1,7))\n",
    "            \n",
    "            div_image = big_div_img.find_element(By.CLASS_NAME, '_aagv')\n",
    "            image = div_image.find_element(By.TAG_NAME, 'img')\n",
    "            source = image.get_attribute('src')\n",
    "            alt = image.get_attribute('alt')\n",
    "                \n",
    "            sleep(rd.randint(1,4))\n",
    "            #save image\n",
    "            save_as = os.path.join(path, keyword[1:] + str(counter) + '.jpg')\n",
    "            wget.download(source, save_as)\n",
    "            sleep(rd.randint(2,6))\n",
    "            counter += 1\n",
    "                \n",
    "\n",
    "                \n",
    "            try:\n",
    "                subject_username = driver.find_element(By.XPATH, \"//*[@id='mount_0_0_Cy']/div/div/div/div[2]/div/div/div[1]/div/div[3]/div/div/div/div/div[2]/div/article/div/div[2]/div/div/div[1]/div/header/div[2]/div[1]/div[1]/div/div/div/span/a\").text\n",
    "            except:\n",
    "                driver.execute_script(\"window.history.go(-1)\")\n",
    "                continue\n",
    "                                                        \n",
    "            pic_desc = driver.find_element(By.XPATH, \"//*[@id='mount_0_0_Cy']/div/div/div/div[2]/div/div/div[1]/div/div[3]/div/div/div/div/div[2]/div/article/div/div[2]/div/div/div[2]/div[1]/ul/div/li/div/div/div[2]/div[1]/span\").text\n",
    "\n",
    "                                                                    \n",
    "            insta_data.append((keyword, source, alt, subject_username, pic_desc))\n",
    "            \n",
    "            driver.execute_script(\"window.history.go(-1)\")\n",
    "\n",
    "\n",
    "        #driver.execute_script(\"window.scrollTo(0,document.body.scrollHeight)\")\n",
    "    sleep(3) ## to pause so that page loads properly"
   ]
  },
  {
   "cell_type": "code",
   "execution_count": 80,
   "id": "6fbaaff6-3ddc-42be-a21b-75ccab424329",
   "metadata": {
    "tags": []
   },
   "outputs": [],
   "source": [
    "#\"#thrift\", \"#thriftshop\", \"#thriftstore\", \"#thriftstorefinds\", \"#thriftfinds\", \"#thriftlebanon\",\"#lebanonthrift\", \"#handpicked\", \"#thriftedfashion\", \"#brandthrift\", \"#reuse\", \"#recycle\", \"#used\", \"#usedbrands\", \"#secondhandlebanon\", \n",
    "hashtags = [\"\"] #your wanted scraped hashtags, some examples above"
   ]
  },
  {
   "cell_type": "code",
   "execution_count": 51,
   "id": "ea202931-a1a3-4008-a3f7-32e0862437cc",
   "metadata": {
    "jupyter": {
     "source_hidden": true
    },
    "tags": []
   },
   "outputs": [],
   "source": [
    "def trying(keyword):\n",
    "    #scroll\n",
    "    driver.execute_script(\"window.scrollTo(0, 4000);\")\n",
    "    #select images\n",
    "    images = driver.find_elements(By.TAG_NAME, 'img')\n",
    "    images = [image.get_attribute('src') for image in images]\n",
    "    #alt = [image.get_attribute('alt') for image in images]\n",
    "    #insta_data.append((0, alt, 0, 0))\n",
    "    images = images[:-2] #slicing-off IG logo and Profile picture\n",
    "    sleep(5)\n",
    "    print('Number of scraped images: ', len(images))\n",
    "    sleep(3)\n",
    "    import os\n",
    "    import wget\n",
    "    os.environ['WDM_SSL_VERIFY'] = '0'\n",
    "\n",
    "    path = os.getcwd()\n",
    "    path = os.path.join(path, keyword[1:] + \"s\")\n",
    "    os.mkdir(path)\n",
    "    \n",
    "    path\n",
    "    #download images\n",
    "    sleep(2)\n",
    "    counter = 0\n",
    "    for image in images:\n",
    "        save_as = os.path.join(path, keyword[1:] + str(counter) +'.jpg')\n",
    "        sleep(2)\n",
    "        wget.download(image, save_as)\n",
    "        sleep(5)\n",
    "        counter += 1"
   ]
  },
  {
   "cell_type": "code",
   "execution_count": 81,
   "id": "24ca4b07-a1a4-49f4-87b3-b0c4e2863f51",
   "metadata": {
    "tags": []
   },
   "outputs": [
    {
     "name": "stdout",
     "output_type": "stream",
     "text": [
      "100% [........................................................] 153342 / 153342"
     ]
    }
   ],
   "source": [
    "for hT in hashtags:\n",
    "    explore = driver.find_element(By.XPATH, \"//a[@href='/explore/']\").click()\n",
    "    sleep(rd.randint(4,6))\n",
    "    searchbox = driver.find_element(By.CSS_SELECTOR, \"input[placeholder='Search']\")\n",
    "    searchbox.clear()\n",
    "    searchbox.send_keys(hT)\n",
    "    searchbox.send_keys(Keys.RETURN)\n",
    "    sleep(rd.randint(4,6))\n",
    "    searchbox.send_keys(Keys.RETURN)\n",
    "    searchbox.send_keys(Keys.RETURN)\n",
    "    sleep(rd.randint(4,6))\n",
    "    keywordSearch(hT)\n",
    "    #trying(hT)"
   ]
  },
  {
   "cell_type": "code",
   "execution_count": 82,
   "id": "9083d43d-4b76-43fd-9fc9-3ae12a3d4948",
   "metadata": {},
   "outputs": [],
   "source": [
    "import pandas as pd\n",
    "df = pd.DataFrame(insta_data, columns=['keyword', 'source', 'alt', 'subject_username', 'pic_desc'])\n"
   ]
  },
  {
   "cell_type": "code",
   "execution_count": 83,
   "id": "b64dea3a-7e3c-4b27-bd37-c13da6bc3c93",
   "metadata": {
    "collapsed": true,
    "jupyter": {
     "outputs_hidden": true
    },
    "tags": []
   },
   "outputs": [
    {
     "data": {
      "text/html": [
       "<div>\n",
       "<style scoped>\n",
       "    .dataframe tbody tr th:only-of-type {\n",
       "        vertical-align: middle;\n",
       "    }\n",
       "\n",
       "    .dataframe tbody tr th {\n",
       "        vertical-align: top;\n",
       "    }\n",
       "\n",
       "    .dataframe thead th {\n",
       "        text-align: right;\n",
       "    }\n",
       "</style>\n",
       "<table border=\"1\" class=\"dataframe\">\n",
       "  <thead>\n",
       "    <tr style=\"text-align: right;\">\n",
       "      <th></th>\n",
       "      <th>keyword</th>\n",
       "      <th>source</th>\n",
       "      <th>alt</th>\n",
       "      <th>subject_username</th>\n",
       "      <th>pic_desc</th>\n",
       "    </tr>\n",
       "  </thead>\n",
       "  <tbody>\n",
       "    <tr>\n",
       "      <th>0</th>\n",
       "      <td>#thrift</td>\n",
       "      <td>https://instagram.fbey15-1.fna.fbcdn.net/v/t51...</td>\n",
       "      <td></td>\n",
       "      <td>nop_vintage</td>\n",
       "      <td>Vintage Ozzfest 2002's\\n\\nSize: 21.5/28\\nDetai...</td>\n",
       "    </tr>\n",
       "    <tr>\n",
       "      <th>1</th>\n",
       "      <td>#thrift</td>\n",
       "      <td>https://instagram.fbey15-1.fna.fbcdn.net/v/t51...</td>\n",
       "      <td>Photo by Pretty Little Bish in Seattle, Washin...</td>\n",
       "      <td>pretty_little_bish</td>\n",
       "      <td>FINALLY complete! The recent surge in populari...</td>\n",
       "    </tr>\n",
       "    <tr>\n",
       "      <th>2</th>\n",
       "      <td>#thrift</td>\n",
       "      <td>https://instagram.fbey15-1.fna.fbcdn.net/v/t51...</td>\n",
       "      <td></td>\n",
       "      <td>apricloth</td>\n",
       "      <td>‼️NEW UPLOAD TODAY STORY SHOPPING (KODE P)‼️\\n...</td>\n",
       "    </tr>\n",
       "    <tr>\n",
       "      <th>3</th>\n",
       "      <td>#thrift</td>\n",
       "      <td>https://instagram.fbey15-1.fna.fbcdn.net/v/t51...</td>\n",
       "      <td></td>\n",
       "      <td>vintagestore.pe</td>\n",
       "      <td>✖️VENDIDO ✖️\\n\\nPant fairycore 🧚\\nSuper marron...</td>\n",
       "    </tr>\n",
       "    <tr>\n",
       "      <th>4</th>\n",
       "      <td>#thrift</td>\n",
       "      <td>https://instagram.fbey15-1.fna.fbcdn.net/v/t51...</td>\n",
       "      <td></td>\n",
       "      <td>nop_vintage</td>\n",
       "      <td>Vintage the rolling stones tour 1997's\\n\\nSize...</td>\n",
       "    </tr>\n",
       "    <tr>\n",
       "      <th>...</th>\n",
       "      <td>...</td>\n",
       "      <td>...</td>\n",
       "      <td>...</td>\n",
       "      <td>...</td>\n",
       "      <td>...</td>\n",
       "    </tr>\n",
       "    <tr>\n",
       "      <th>136</th>\n",
       "      <td>#preownedlebanon</td>\n",
       "      <td>https://instagram.fbey15-1.fna.fbcdn.net/v/t51...</td>\n",
       "      <td>Photo by 𝗦𝗵𝗼𝗽 𝗟𝗮 𝗙𝗿𝗶𝗽𝗲 on September 14, 2022. ...</td>\n",
       "      <td>shoplafripe</td>\n",
       "      <td>@libantroc.official is a Lebanese registered h...</td>\n",
       "    </tr>\n",
       "    <tr>\n",
       "      <th>137</th>\n",
       "      <td>#preownedlebanon</td>\n",
       "      <td>https://instagram.fbey15-1.fna.fbcdn.net/v/t51...</td>\n",
       "      <td></td>\n",
       "      <td>toys.thrift.lb</td>\n",
       "      <td>🌸 Authentic Tupperware gourd 750 ml\\n⭐️ New ne...</td>\n",
       "    </tr>\n",
       "    <tr>\n",
       "      <th>138</th>\n",
       "      <td>#preownedlebanon</td>\n",
       "      <td>https://instagram.fbey15-1.fna.fbcdn.net/v/t51...</td>\n",
       "      <td>Photo by @full.trendss on June 20, 2022. May b...</td>\n",
       "      <td>full.trendss</td>\n",
       "      <td>BRAND: P*R*A*D*A\\nCloudbust Thunder\\nSize: 36\\...</td>\n",
       "    </tr>\n",
       "    <tr>\n",
       "      <th>139</th>\n",
       "      <td>#preownedlebanon</td>\n",
       "      <td>https://instagram.fbey15-1.fna.fbcdn.net/v/t51...</td>\n",
       "      <td></td>\n",
       "      <td>atrends.lb</td>\n",
       "      <td>UGG Women Short boot.\\n\\nAvailable now in our ...</td>\n",
       "    </tr>\n",
       "    <tr>\n",
       "      <th>140</th>\n",
       "      <td>#preownedlebanon</td>\n",
       "      <td>https://instagram.fbey15-1.fna.fbcdn.net/v/t51...</td>\n",
       "      <td></td>\n",
       "      <td>shoplafripe</td>\n",
       "      <td>Condition: like NEW\\nShop for a cause ❤️\\n🛍 We...</td>\n",
       "    </tr>\n",
       "  </tbody>\n",
       "</table>\n",
       "<p>141 rows × 5 columns</p>\n",
       "</div>"
      ],
      "text/plain": [
       "              keyword                                             source  \\\n",
       "0             #thrift  https://instagram.fbey15-1.fna.fbcdn.net/v/t51...   \n",
       "1             #thrift  https://instagram.fbey15-1.fna.fbcdn.net/v/t51...   \n",
       "2             #thrift  https://instagram.fbey15-1.fna.fbcdn.net/v/t51...   \n",
       "3             #thrift  https://instagram.fbey15-1.fna.fbcdn.net/v/t51...   \n",
       "4             #thrift  https://instagram.fbey15-1.fna.fbcdn.net/v/t51...   \n",
       "..                ...                                                ...   \n",
       "136  #preownedlebanon  https://instagram.fbey15-1.fna.fbcdn.net/v/t51...   \n",
       "137  #preownedlebanon  https://instagram.fbey15-1.fna.fbcdn.net/v/t51...   \n",
       "138  #preownedlebanon  https://instagram.fbey15-1.fna.fbcdn.net/v/t51...   \n",
       "139  #preownedlebanon  https://instagram.fbey15-1.fna.fbcdn.net/v/t51...   \n",
       "140  #preownedlebanon  https://instagram.fbey15-1.fna.fbcdn.net/v/t51...   \n",
       "\n",
       "                                                   alt    subject_username  \\\n",
       "0                                                              nop_vintage   \n",
       "1    Photo by Pretty Little Bish in Seattle, Washin...  pretty_little_bish   \n",
       "2                                                                apricloth   \n",
       "3                                                          vintagestore.pe   \n",
       "4                                                              nop_vintage   \n",
       "..                                                 ...                 ...   \n",
       "136  Photo by 𝗦𝗵𝗼𝗽 𝗟𝗮 𝗙𝗿𝗶𝗽𝗲 on September 14, 2022. ...         shoplafripe   \n",
       "137                                                         toys.thrift.lb   \n",
       "138  Photo by @full.trendss on June 20, 2022. May b...        full.trendss   \n",
       "139                                                             atrends.lb   \n",
       "140                                                            shoplafripe   \n",
       "\n",
       "                                              pic_desc  \n",
       "0    Vintage Ozzfest 2002's\\n\\nSize: 21.5/28\\nDetai...  \n",
       "1    FINALLY complete! The recent surge in populari...  \n",
       "2    ‼️NEW UPLOAD TODAY STORY SHOPPING (KODE P)‼️\\n...  \n",
       "3    ✖️VENDIDO ✖️\\n\\nPant fairycore 🧚\\nSuper marron...  \n",
       "4    Vintage the rolling stones tour 1997's\\n\\nSize...  \n",
       "..                                                 ...  \n",
       "136  @libantroc.official is a Lebanese registered h...  \n",
       "137  🌸 Authentic Tupperware gourd 750 ml\\n⭐️ New ne...  \n",
       "138  BRAND: P*R*A*D*A\\nCloudbust Thunder\\nSize: 36\\...  \n",
       "139  UGG Women Short boot.\\n\\nAvailable now in our ...  \n",
       "140  Condition: like NEW\\nShop for a cause ❤️\\n🛍 We...  \n",
       "\n",
       "[141 rows x 5 columns]"
      ]
     },
     "execution_count": 83,
     "metadata": {},
     "output_type": "execute_result"
    }
   ],
   "source": [
    "df.to_csv(r'') #your wanted path for CSV file\n",
    "df"
   ]
  },
  {
   "cell_type": "code",
   "execution_count": null,
   "id": "a5583d24-011b-47f5-ae79-5057f54a11b0",
   "metadata": {},
   "outputs": [],
   "source": []
  }
 ],
 "metadata": {
  "kernelspec": {
   "display_name": "Python 3 (ipykernel)",
   "language": "python",
   "name": "python3"
  },
  "language_info": {
   "codemirror_mode": {
    "name": "ipython",
    "version": 3
   },
   "file_extension": ".py",
   "mimetype": "text/x-python",
   "name": "python",
   "nbconvert_exporter": "python",
   "pygments_lexer": "ipython3",
   "version": "3.10.7"
  },
  "toc-autonumbering": false,
  "toc-showcode": false,
  "toc-showmarkdowntxt": false
 },
 "nbformat": 4,
 "nbformat_minor": 5
}
